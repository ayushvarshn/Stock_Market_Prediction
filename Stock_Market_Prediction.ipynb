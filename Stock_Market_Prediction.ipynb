{
 "cells": [
  {
   "cell_type": "code",
   "execution_count": 20,
   "metadata": {},
   "outputs": [],
   "source": [
    "import matplotlib.pyplot as plt\n",
    "import pandas as pd"
   ]
  },
  {
   "cell_type": "code",
   "execution_count": 21,
   "metadata": {},
   "outputs": [],
   "source": [
    "df=pd.read_csv('EuStock.csv')\n",
    "df=df.sample(frac=1)\n",
    "x1=df['DAX']\n",
    "x1_sq=x1**2\n",
    "x2=df['SMI']\n",
    "x2_sq=x2**2\n",
    "x3=df['CAC']\n",
    "x3_sq=x3**2"
   ]
  },
  {
   "cell_type": "code",
   "execution_count": 22,
   "metadata": {},
   "outputs": [],
   "source": [
    "x1=(x1-x1.mean())/x1.std()\n",
    "x1_sq=(x1_sq-x1_sq.mean())/x1_sq.std()\n",
    "x2=(x2-x2.mean())/x2.std()\n",
    "x2_sq=(x2_sq-x2_sq.mean())/x2_sq.std()\n",
    "x3=(x3-x3.mean())/x3.std()\n",
    "x3_sq=(x3_sq-x3_sq.mean())/x3_sq.std()\n"
   ]
  },
  {
   "cell_type": "code",
   "execution_count": 23,
   "metadata": {},
   "outputs": [],
   "source": [
    "T1=0\n",
    "T2=0\n",
    "T3=0\n",
    "T1_sq=0\n",
    "T2_sq=0\n",
    "T3_sq=0\n",
    "T0=0"
   ]
  },
  {
   "cell_type": "code",
   "execution_count": 24,
   "metadata": {},
   "outputs": [
    {
     "name": "stdout",
     "output_type": "stream",
     "text": [
      "1499.0\n"
     ]
    }
   ],
   "source": [
    "y=df['FTSE']\n",
    "b=y.std()\n",
    "c=y.mean()\n",
    "n=float(len(y))\n",
    "print(n)"
   ]
  },
  {
   "cell_type": "code",
   "execution_count": 31,
   "metadata": {},
   "outputs": [
    {
     "name": "stdout",
     "output_type": "stream",
     "text": [
      "Training..\n",
      "Done..\n"
     ]
    }
   ],
   "source": [
    "alpha=0.03\n",
    "J=[]\n",
    "m=[]\n",
    "print('Training..')\n",
    "for i in range(1000):\n",
    "    h=T0+T1*x1+T2*x2+T3*x3+T1_sq*x1_sq+T2_sq*x2_sq+T3_sq*x3_sq\n",
    "    J.append(sum([data**2 for data in (y-h)])/n)\n",
    "    m.append(i)\n",
    "    J0=-(2/n)*(sum(y-h))\n",
    "    J1=-(2/n)*(sum((y-h)*x1))\n",
    "    J2=-(2/n)*(sum((y-h)*x2))\n",
    "    J3=-(2/n)*(sum((y-h)*x3))\n",
    "    J1_sq=-(2/n)*(sum((y-h)*x1_sq))\n",
    "    J2_sq=-(2/n)*(sum((y-h)*x2_sq))\n",
    "    J3_sq=-(2/n)*(sum((y-h)*x3_sq))\n",
    "    T0=T0-(alpha*J0)\n",
    "    T1=T1-(alpha*J1)\n",
    "    T2=T2-(alpha*J2)\n",
    "    T3=T3-(alpha*J3)\n",
    "    T1_sq=T1_sq-(alpha*J1_sq)\n",
    "    T2_sq=T2_sq-(alpha*J2_sq)\n",
    "    T3_sq=T3_sq-(alpha*J3_sq)   \n",
    "y=df['FTSE']\n",
    "print('Done..')"
   ]
  },
  {
   "cell_type": "code",
   "execution_count": 26,
   "metadata": {},
   "outputs": [
    {
     "data": {
      "image/png": "[encoded data removed]",
      "text/plain": [
       "<Figure size 432x288 with 1 Axes>"
      ]
     },
     "metadata": {
      "needs_background": "light"
     },
     "output_type": "display_data"
    }
   ],
   "source": [
    "plt.plot(J,m)\n",
    "plt.show()"
   ]
  },
  {
   "cell_type": "code",
   "execution_count": 27,
   "metadata": {},
   "outputs": [
    {
     "name": "stdout",
     "output_type": "stream",
     "text": [
      "Training Accuracy 97.20075162411759 %\n",
      "Maximum deviation from Training Data : 12.710035064851658 %\n"
     ]
    }
   ],
   "source": [
    "err=(abs(h-y)*100)/y\n",
    "print('Training Accuracy', 100-(sum(err)/n),'%')\n",
    "print('Maximum deviation from Training Data :',err.max(),'%')"
   ]
  },
  {
   "cell_type": "code",
   "execution_count": 28,
   "metadata": {},
   "outputs": [],
   "source": [
    "df2=pd.read_csv(\"Test_Data.csv\")\n",
    "df2=df2.sample(frac=1)\n",
    "x1=df2['DAX']\n",
    "x1_sq=x1**2\n",
    "x2=df2['SMI']\n",
    "x2_sq=x2**2\n",
    "x3=df2['CAC']\n",
    "x3_sq=x3**2"
   ]
  },
  {
   "cell_type": "code",
   "execution_count": 29,
   "metadata": {},
   "outputs": [],
   "source": [
    "x1=(x1-x1.mean())/x1.std()\n",
    "x1_sq=(x1_sq-x1_sq.mean())/x1_sq.std()\n",
    "x2=(x2-x2.mean())/x2.std()\n",
    "x2_sq=(x2_sq-x2_sq.mean())/x2_sq.std()\n",
    "x3=(x3-x3.mean())/x3.std()\n",
    "x3_sq=(x3_sq-x3_sq.mean())/x3_sq.std()"
   ]
  },
  {
   "cell_type": "code",
   "execution_count": 30,
   "metadata": {},
   "outputs": [
    {
     "name": "stdout",
     "output_type": "stream",
     "text": [
      "Test Error 96.60864048553924\n",
      "Maximum deviation from Test Data : 9.947149257245586\n"
     ]
    }
   ],
   "source": [
    "h=T0+T1*x1+T2*x2+T3*x3+T1_sq*x1_sq+T2_sq*x2_sq+T3_sq*x3_sq\n",
    "y=df2['FTSE']\n",
    "n=float(len(y))\n",
    "err=(abs(h-y)/y)*100\n",
    "print('Test Error',100-(sum(err)/n))\n",
    "print('Maximum deviation from Test Data :',err.max())\n"
   ]
  }
 ],
 "metadata": {
  "kernelspec": {
   "display_name": "Python 3",
   "language": "python",
   "name": "python3"
  },
  "language_info": {
   "codemirror_mode": {
    "name": "ipython",
    "version": 3
   },
   "file_extension": ".py",
   "mimetype": "text/x-python",
   "name": "python",
   "nbconvert_exporter": "python",
   "pygments_lexer": "ipython3",
   "version": "3.5.2"
  }
 },
 "nbformat": 4,
 "nbformat_minor": 2
}
